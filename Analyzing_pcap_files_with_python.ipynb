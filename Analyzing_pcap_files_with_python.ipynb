{
  "nbformat": 4,
  "nbformat_minor": 0,
  "metadata": {
    "colab": {
      "provenance": []
    },
    "kernelspec": {
      "name": "python3",
      "display_name": "Python 3"
    },
    "language_info": {
      "name": "python"
    }
  },
  "cells": [
    {
      "cell_type": "markdown",
      "source": [
        "## Export a pcap file to a CSV using tshark"
      ],
      "metadata": {
        "id": "9jtHG83NLRx6"
      }
    },
    {
      "cell_type": "code",
      "execution_count": 1,
      "metadata": {
        "colab": {
          "base_uri": "https://localhost:8080/"
        },
        "id": "N0A3cw7_KBtG",
        "outputId": "a86f941f-4bcb-40f4-c5c9-394bb7bea6b0"
      },
      "outputs": [
        {
          "output_type": "stream",
          "name": "stdout",
          "text": [
            "Reading package lists... Done\n",
            "Building dependency tree       \n",
            "Reading state information... Done\n",
            "The following package was automatically installed and is no longer required:\n",
            "  libnvidia-common-460\n",
            "Use 'apt autoremove' to remove it.\n",
            "The following additional packages will be installed:\n",
            "  libc-ares2 libcap2-bin liblua5.2-0 libmaxminddb0 libnl-genl-3-200 libpam-cap\n",
            "  libpcap0.8 libsbc1 libsmi2ldbl libspandsp2 libwireshark-data libwireshark11\n",
            "  libwiretap8 libwscodecs2 libwsutil9 wireshark-common\n",
            "Suggested packages:\n",
            "  mmdb-bin snmp-mibs-downloader wireshark-doc\n",
            "The following NEW packages will be installed:\n",
            "  libc-ares2 libcap2-bin liblua5.2-0 libmaxminddb0 libnl-genl-3-200 libpam-cap\n",
            "  libpcap0.8 libsbc1 libsmi2ldbl libspandsp2 libwireshark-data libwireshark11\n",
            "  libwiretap8 libwscodecs2 libwsutil9 tshark wireshark-common\n",
            "0 upgraded, 17 newly installed, 0 to remove and 20 not upgraded.\n",
            "Need to get 16.5 MB of archives.\n",
            "After this operation, 95.6 MB of additional disk space will be used.\n",
            "Get:1 http://archive.ubuntu.com/ubuntu bionic/main amd64 libcap2-bin amd64 1:2.25-1.2 [20.6 kB]\n",
            "Get:2 http://archive.ubuntu.com/ubuntu bionic/main amd64 libpam-cap amd64 1:2.25-1.2 [7,268 B]\n",
            "Get:3 http://archive.ubuntu.com/ubuntu bionic-updates/main amd64 libpcap0.8 amd64 1.8.1-6ubuntu1.18.04.2 [118 kB]\n",
            "Get:4 http://archive.ubuntu.com/ubuntu bionic/main amd64 liblua5.2-0 amd64 5.2.4-1.1build1 [108 kB]\n",
            "Get:5 http://archive.ubuntu.com/ubuntu bionic/universe amd64 libmaxminddb0 amd64 1.3.1-1 [25.6 kB]\n",
            "Get:6 http://archive.ubuntu.com/ubuntu bionic/main amd64 libnl-genl-3-200 amd64 3.2.29-0ubuntu3 [11.2 kB]\n",
            "Get:7 http://archive.ubuntu.com/ubuntu bionic/main amd64 libsmi2ldbl amd64 0.4.8+dfsg2-15 [100 kB]\n",
            "Get:8 http://archive.ubuntu.com/ubuntu bionic/universe amd64 libspandsp2 amd64 0.0.6+dfsg-0.1 [273 kB]\n",
            "Get:9 http://archive.ubuntu.com/ubuntu bionic-updates/universe amd64 libwireshark-data all 2.6.10-1~ubuntu18.04.0 [1,425 kB]\n",
            "Get:10 http://archive.ubuntu.com/ubuntu bionic-updates/main amd64 libc-ares2 amd64 1.14.0-1ubuntu0.1 [37.5 kB]\n",
            "Get:11 http://archive.ubuntu.com/ubuntu bionic-updates/universe amd64 libwsutil9 amd64 2.6.10-1~ubuntu18.04.0 [55.5 kB]\n",
            "Get:12 http://archive.ubuntu.com/ubuntu bionic-updates/universe amd64 libwiretap8 amd64 2.6.10-1~ubuntu18.04.0 [177 kB]\n",
            "Get:13 http://archive.ubuntu.com/ubuntu bionic/main amd64 libsbc1 amd64 1.3-2 [33.1 kB]\n",
            "Get:14 http://archive.ubuntu.com/ubuntu bionic-updates/universe amd64 libwscodecs2 amd64 2.6.10-1~ubuntu18.04.0 [17.8 kB]\n",
            "Get:15 http://archive.ubuntu.com/ubuntu bionic-updates/universe amd64 libwireshark11 amd64 2.6.10-1~ubuntu18.04.0 [13.6 MB]\n",
            "Get:16 http://archive.ubuntu.com/ubuntu bionic-updates/universe amd64 wireshark-common amd64 2.6.10-1~ubuntu18.04.0 [391 kB]\n",
            "Get:17 http://archive.ubuntu.com/ubuntu bionic-updates/universe amd64 tshark amd64 2.6.10-1~ubuntu18.04.0 [134 kB]\n",
            "Fetched 16.5 MB in 0s (41.7 MB/s)\n",
            "Preconfiguring packages ...\n",
            "Selecting previously unselected package libcap2-bin.\n",
            "(Reading database ... 157604 files and directories currently installed.)\n",
            "Preparing to unpack .../00-libcap2-bin_1%3a2.25-1.2_amd64.deb ...\n",
            "Unpacking libcap2-bin (1:2.25-1.2) ...\n",
            "Selecting previously unselected package libpam-cap:amd64.\n",
            "Preparing to unpack .../01-libpam-cap_1%3a2.25-1.2_amd64.deb ...\n",
            "Unpacking libpam-cap:amd64 (1:2.25-1.2) ...\n",
            "Selecting previously unselected package libpcap0.8:amd64.\n",
            "Preparing to unpack .../02-libpcap0.8_1.8.1-6ubuntu1.18.04.2_amd64.deb ...\n",
            "Unpacking libpcap0.8:amd64 (1.8.1-6ubuntu1.18.04.2) ...\n",
            "Selecting previously unselected package liblua5.2-0:amd64.\n",
            "Preparing to unpack .../03-liblua5.2-0_5.2.4-1.1build1_amd64.deb ...\n",
            "Unpacking liblua5.2-0:amd64 (5.2.4-1.1build1) ...\n",
            "Selecting previously unselected package libmaxminddb0:amd64.\n",
            "Preparing to unpack .../04-libmaxminddb0_1.3.1-1_amd64.deb ...\n",
            "Unpacking libmaxminddb0:amd64 (1.3.1-1) ...\n",
            "Selecting previously unselected package libnl-genl-3-200:amd64.\n",
            "Preparing to unpack .../05-libnl-genl-3-200_3.2.29-0ubuntu3_amd64.deb ...\n",
            "Unpacking libnl-genl-3-200:amd64 (3.2.29-0ubuntu3) ...\n",
            "Selecting previously unselected package libsmi2ldbl:amd64.\n",
            "Preparing to unpack .../06-libsmi2ldbl_0.4.8+dfsg2-15_amd64.deb ...\n",
            "Unpacking libsmi2ldbl:amd64 (0.4.8+dfsg2-15) ...\n",
            "Selecting previously unselected package libspandsp2:amd64.\n",
            "Preparing to unpack .../07-libspandsp2_0.0.6+dfsg-0.1_amd64.deb ...\n",
            "Unpacking libspandsp2:amd64 (0.0.6+dfsg-0.1) ...\n",
            "Selecting previously unselected package libwireshark-data.\n",
            "Preparing to unpack .../08-libwireshark-data_2.6.10-1~ubuntu18.04.0_all.deb ...\n",
            "Unpacking libwireshark-data (2.6.10-1~ubuntu18.04.0) ...\n",
            "Selecting previously unselected package libc-ares2:amd64.\n",
            "Preparing to unpack .../09-libc-ares2_1.14.0-1ubuntu0.1_amd64.deb ...\n",
            "Unpacking libc-ares2:amd64 (1.14.0-1ubuntu0.1) ...\n",
            "Selecting previously unselected package libwsutil9:amd64.\n",
            "Preparing to unpack .../10-libwsutil9_2.6.10-1~ubuntu18.04.0_amd64.deb ...\n",
            "Unpacking libwsutil9:amd64 (2.6.10-1~ubuntu18.04.0) ...\n",
            "Selecting previously unselected package libwiretap8:amd64.\n",
            "Preparing to unpack .../11-libwiretap8_2.6.10-1~ubuntu18.04.0_amd64.deb ...\n",
            "Unpacking libwiretap8:amd64 (2.6.10-1~ubuntu18.04.0) ...\n",
            "Selecting previously unselected package libsbc1:amd64.\n",
            "Preparing to unpack .../12-libsbc1_1.3-2_amd64.deb ...\n",
            "Unpacking libsbc1:amd64 (1.3-2) ...\n",
            "Selecting previously unselected package libwscodecs2:amd64.\n",
            "Preparing to unpack .../13-libwscodecs2_2.6.10-1~ubuntu18.04.0_amd64.deb ...\n",
            "Unpacking libwscodecs2:amd64 (2.6.10-1~ubuntu18.04.0) ...\n",
            "Selecting previously unselected package libwireshark11:amd64.\n",
            "Preparing to unpack .../14-libwireshark11_2.6.10-1~ubuntu18.04.0_amd64.deb ...\n",
            "Unpacking libwireshark11:amd64 (2.6.10-1~ubuntu18.04.0) ...\n",
            "Selecting previously unselected package wireshark-common.\n",
            "Preparing to unpack .../15-wireshark-common_2.6.10-1~ubuntu18.04.0_amd64.deb ...\n",
            "Unpacking wireshark-common (2.6.10-1~ubuntu18.04.0) ...\n",
            "Selecting previously unselected package tshark.\n",
            "Preparing to unpack .../16-tshark_2.6.10-1~ubuntu18.04.0_amd64.deb ...\n",
            "Unpacking tshark (2.6.10-1~ubuntu18.04.0) ...\n",
            "Setting up libsbc1:amd64 (1.3-2) ...\n",
            "Setting up libpam-cap:amd64 (1:2.25-1.2) ...\n",
            "Setting up libcap2-bin (1:2.25-1.2) ...\n",
            "Setting up libspandsp2:amd64 (0.0.6+dfsg-0.1) ...\n",
            "Setting up libnl-genl-3-200:amd64 (3.2.29-0ubuntu3) ...\n",
            "Setting up libsmi2ldbl:amd64 (0.4.8+dfsg2-15) ...\n",
            "Setting up libwsutil9:amd64 (2.6.10-1~ubuntu18.04.0) ...\n",
            "Setting up libwireshark-data (2.6.10-1~ubuntu18.04.0) ...\n",
            "Setting up libwscodecs2:amd64 (2.6.10-1~ubuntu18.04.0) ...\n",
            "Setting up liblua5.2-0:amd64 (5.2.4-1.1build1) ...\n",
            "Setting up libc-ares2:amd64 (1.14.0-1ubuntu0.1) ...\n",
            "Setting up libmaxminddb0:amd64 (1.3.1-1) ...\n",
            "Setting up libpcap0.8:amd64 (1.8.1-6ubuntu1.18.04.2) ...\n",
            "Setting up libwiretap8:amd64 (2.6.10-1~ubuntu18.04.0) ...\n",
            "Setting up libwireshark11:amd64 (2.6.10-1~ubuntu18.04.0) ...\n",
            "Setting up wireshark-common (2.6.10-1~ubuntu18.04.0) ...\n",
            "Setting up tshark (2.6.10-1~ubuntu18.04.0) ...\n",
            "Processing triggers for libc-bin (2.27-3ubuntu1.5) ...\n",
            "Processing triggers for man-db (2.8.3-2ubuntu0.1) ...\n",
            "Processing triggers for shared-mime-info (1.9-2) ...\n",
            "Processing triggers for hicolor-icon-theme (0.17-2) ...\n"
          ]
        }
      ],
      "source": [
        "!apt-get install tshark"
      ]
    },
    {
      "cell_type": "code",
      "source": [
        "!tshark -v"
      ],
      "metadata": {
        "colab": {
          "base_uri": "https://localhost:8080/"
        },
        "id": "PloZJ24WK37H",
        "outputId": "8871bd6c-1dfa-4f40-eee6-35b25f3d66cc"
      },
      "execution_count": 2,
      "outputs": [
        {
          "output_type": "stream",
          "name": "stdout",
          "text": [
            "Running as user \"root\" and group \"root\". This could be dangerous.\n",
            "TShark (Wireshark) 2.6.10 (Git v2.6.10 packaged as 2.6.10-1~ubuntu18.04.0)\n",
            "\n",
            "Copyright 1998-2019 Gerald Combs <gerald@wireshark.org> and contributors.\n",
            "License GPLv2+: GNU GPL version 2 or later <http://www.gnu.org/licenses/old-licenses/gpl-2.0.html>\n",
            "This is free software; see the source for copying conditions. There is NO\n",
            "warranty; not even for MERCHANTABILITY or FITNESS FOR A PARTICULAR PURPOSE.\n",
            "\n",
            "Compiled (64-bit) with libpcap, with POSIX capabilities (Linux), with libnl 3,\n",
            "with GLib 2.56.4, with zlib 1.2.11, with SMI 0.4.8, with c-ares 1.14.0, with Lua\n",
            "5.2.4, with GnuTLS 3.5.18, with Gcrypt 1.8.1, with MIT Kerberos, with MaxMind DB\n",
            "resolver, with nghttp2 1.30.0, with LZ4, with Snappy, with libxml2 2.9.4.\n",
            "\n",
            "Running on Linux 5.10.133+, with            Intel(R) Xeon(R) CPU @ 2.20GHz (with\n",
            "SSE4.2), with 12985 MB of physical memory, with locale en_US.UTF-8, with libpcap\n",
            "version 1.8.1, with GnuTLS 3.5.18, with Gcrypt 1.8.1, with zlib 1.2.11, binary\n",
            "plugins supported (13 loaded).\n",
            "\n",
            "Built using gcc 7.4.0.\n"
          ]
        }
      ]
    },
    {
      "cell_type": "markdown",
      "source": [
        "seleccionar cantidad de frames y longitud para guardarlo en un archivo llamado **frame.len**"
      ],
      "metadata": {
        "id": "uAf-exPeL3YL"
      }
    },
    {
      "cell_type": "code",
      "source": [
        "!tshark -n -r 'PCAP01.pcapng' -T fields -Eheader=y -e frame.number -e frame.len > frame.len"
      ],
      "metadata": {
        "colab": {
          "base_uri": "https://localhost:8080/"
        },
        "id": "CAtqcTnjLIf-",
        "outputId": "9562c9c4-785b-4ad0-dc07-f03b19341871"
      },
      "execution_count": 29,
      "outputs": [
        {
          "output_type": "stream",
          "name": "stdout",
          "text": [
            "Running as user \"root\" and group \"root\". This could be dangerous.\n"
          ]
        }
      ]
    },
    {
      "cell_type": "code",
      "source": [
        "import pandas as pd\n",
        "import datetime\n",
        "import subprocess\n",
        "from matplotlib import pyplot as plt"
      ],
      "metadata": {
        "id": "_8b_oQXtNOpN"
      },
      "execution_count": 30,
      "outputs": []
    },
    {
      "cell_type": "code",
      "source": [
        "df = pd.read_table('frame.len')\n",
        "df.head()"
      ],
      "metadata": {
        "colab": {
          "base_uri": "https://localhost:8080/",
          "height": 206
        },
        "id": "8RJk0ePrMADy",
        "outputId": "0fcc1fbc-d753-4555-a058-43252182cdf6"
      },
      "execution_count": 46,
      "outputs": [
        {
          "output_type": "execute_result",
          "data": {
            "text/plain": [
              "   frame.number  frame.len\n",
              "0             1       1434\n",
              "1             2       1434\n",
              "2             3       1434\n",
              "3             4       1434\n",
              "4             5       1434"
            ],
            "text/html": [
              "\n",
              "  <div id=\"df-7ae9dc1e-5d49-4e8b-aad8-5b4610b4954f\">\n",
              "    <div class=\"colab-df-container\">\n",
              "      <div>\n",
              "<style scoped>\n",
              "    .dataframe tbody tr th:only-of-type {\n",
              "        vertical-align: middle;\n",
              "    }\n",
              "\n",
              "    .dataframe tbody tr th {\n",
              "        vertical-align: top;\n",
              "    }\n",
              "\n",
              "    .dataframe thead th {\n",
              "        text-align: right;\n",
              "    }\n",
              "</style>\n",
              "<table border=\"1\" class=\"dataframe\">\n",
              "  <thead>\n",
              "    <tr style=\"text-align: right;\">\n",
              "      <th></th>\n",
              "      <th>frame.number</th>\n",
              "      <th>frame.len</th>\n",
              "    </tr>\n",
              "  </thead>\n",
              "  <tbody>\n",
              "    <tr>\n",
              "      <th>0</th>\n",
              "      <td>1</td>\n",
              "      <td>1434</td>\n",
              "    </tr>\n",
              "    <tr>\n",
              "      <th>1</th>\n",
              "      <td>2</td>\n",
              "      <td>1434</td>\n",
              "    </tr>\n",
              "    <tr>\n",
              "      <th>2</th>\n",
              "      <td>3</td>\n",
              "      <td>1434</td>\n",
              "    </tr>\n",
              "    <tr>\n",
              "      <th>3</th>\n",
              "      <td>4</td>\n",
              "      <td>1434</td>\n",
              "    </tr>\n",
              "    <tr>\n",
              "      <th>4</th>\n",
              "      <td>5</td>\n",
              "      <td>1434</td>\n",
              "    </tr>\n",
              "  </tbody>\n",
              "</table>\n",
              "</div>\n",
              "      <button class=\"colab-df-convert\" onclick=\"convertToInteractive('df-7ae9dc1e-5d49-4e8b-aad8-5b4610b4954f')\"\n",
              "              title=\"Convert this dataframe to an interactive table.\"\n",
              "              style=\"display:none;\">\n",
              "        \n",
              "  <svg xmlns=\"http://www.w3.org/2000/svg\" height=\"24px\"viewBox=\"0 0 24 24\"\n",
              "       width=\"24px\">\n",
              "    <path d=\"M0 0h24v24H0V0z\" fill=\"none\"/>\n",
              "    <path d=\"M18.56 5.44l.94 2.06.94-2.06 2.06-.94-2.06-.94-.94-2.06-.94 2.06-2.06.94zm-11 1L8.5 8.5l.94-2.06 2.06-.94-2.06-.94L8.5 2.5l-.94 2.06-2.06.94zm10 10l.94 2.06.94-2.06 2.06-.94-2.06-.94-.94-2.06-.94 2.06-2.06.94z\"/><path d=\"M17.41 7.96l-1.37-1.37c-.4-.4-.92-.59-1.43-.59-.52 0-1.04.2-1.43.59L10.3 9.45l-7.72 7.72c-.78.78-.78 2.05 0 2.83L4 21.41c.39.39.9.59 1.41.59.51 0 1.02-.2 1.41-.59l7.78-7.78 2.81-2.81c.8-.78.8-2.07 0-2.86zM5.41 20L4 18.59l7.72-7.72 1.47 1.35L5.41 20z\"/>\n",
              "  </svg>\n",
              "      </button>\n",
              "      \n",
              "  <style>\n",
              "    .colab-df-container {\n",
              "      display:flex;\n",
              "      flex-wrap:wrap;\n",
              "      gap: 12px;\n",
              "    }\n",
              "\n",
              "    .colab-df-convert {\n",
              "      background-color: #E8F0FE;\n",
              "      border: none;\n",
              "      border-radius: 50%;\n",
              "      cursor: pointer;\n",
              "      display: none;\n",
              "      fill: #1967D2;\n",
              "      height: 32px;\n",
              "      padding: 0 0 0 0;\n",
              "      width: 32px;\n",
              "    }\n",
              "\n",
              "    .colab-df-convert:hover {\n",
              "      background-color: #E2EBFA;\n",
              "      box-shadow: 0px 1px 2px rgba(60, 64, 67, 0.3), 0px 1px 3px 1px rgba(60, 64, 67, 0.15);\n",
              "      fill: #174EA6;\n",
              "    }\n",
              "\n",
              "    [theme=dark] .colab-df-convert {\n",
              "      background-color: #3B4455;\n",
              "      fill: #D2E3FC;\n",
              "    }\n",
              "\n",
              "    [theme=dark] .colab-df-convert:hover {\n",
              "      background-color: #434B5C;\n",
              "      box-shadow: 0px 1px 3px 1px rgba(0, 0, 0, 0.15);\n",
              "      filter: drop-shadow(0px 1px 2px rgba(0, 0, 0, 0.3));\n",
              "      fill: #FFFFFF;\n",
              "    }\n",
              "  </style>\n",
              "\n",
              "      <script>\n",
              "        const buttonEl =\n",
              "          document.querySelector('#df-7ae9dc1e-5d49-4e8b-aad8-5b4610b4954f button.colab-df-convert');\n",
              "        buttonEl.style.display =\n",
              "          google.colab.kernel.accessAllowed ? 'block' : 'none';\n",
              "\n",
              "        async function convertToInteractive(key) {\n",
              "          const element = document.querySelector('#df-7ae9dc1e-5d49-4e8b-aad8-5b4610b4954f');\n",
              "          const dataTable =\n",
              "            await google.colab.kernel.invokeFunction('convertToInteractive',\n",
              "                                                     [key], {});\n",
              "          if (!dataTable) return;\n",
              "\n",
              "          const docLinkHtml = 'Like what you see? Visit the ' +\n",
              "            '<a target=\"_blank\" href=https://colab.research.google.com/notebooks/data_table.ipynb>data table notebook</a>'\n",
              "            + ' to learn more about interactive tables.';\n",
              "          element.innerHTML = '';\n",
              "          dataTable['output_type'] = 'display_data';\n",
              "          await google.colab.output.renderOutput(dataTable, element);\n",
              "          const docLink = document.createElement('div');\n",
              "          docLink.innerHTML = docLinkHtml;\n",
              "          element.appendChild(docLink);\n",
              "        }\n",
              "      </script>\n",
              "    </div>\n",
              "  </div>\n",
              "  "
            ]
          },
          "metadata": {},
          "execution_count": 46
        }
      ]
    },
    {
      "cell_type": "code",
      "source": [
        "df['frame.len'].describe()"
      ],
      "metadata": {
        "colab": {
          "base_uri": "https://localhost:8080/"
        },
        "id": "1Qns3gKlMJym",
        "outputId": "d66a2d09-6c74-4066-f9d4-238a773b3d12"
      },
      "execution_count": 47,
      "outputs": [
        {
          "output_type": "execute_result",
          "data": {
            "text/plain": [
              "count    9515.000000\n",
              "mean      523.113925\n",
              "std       608.657104\n",
              "min        42.000000\n",
              "25%        66.000000\n",
              "50%        90.000000\n",
              "75%      1383.000000\n",
              "max      1506.000000\n",
              "Name: frame.len, dtype: float64"
            ]
          },
          "metadata": {},
          "execution_count": 47
        }
      ]
    },
    {
      "cell_type": "code",
      "source": [
        "plt.figure(figsize=(10,7))\n",
        "df[\"frame.len\"].plot(style=\".\", alpha=0.2,title=\"Frame length\",ylabel=\"bytes\", xlabel=\"frame number\")"
      ],
      "metadata": {
        "colab": {
          "base_uri": "https://localhost:8080/",
          "height": 475
        },
        "id": "kwGWBLPsMcwJ",
        "outputId": "0ef7e77b-8dcf-46ac-f5e1-19dd0a1050d6"
      },
      "execution_count": 56,
      "outputs": [
        {
          "output_type": "execute_result",
          "data": {
            "text/plain": [
              "<matplotlib.axes._subplots.AxesSubplot at 0x7f5fccc75ad0>"
            ]
          },
          "metadata": {},
          "execution_count": 56
        },
        {
          "output_type": "display_data",
          "data": {
            "text/plain": [
              "<Figure size 720x504 with 1 Axes>"
            ],
            "image/png": "[encoded data removed]"
          },
          "metadata": {
            "needs_background": "light"
          }
        }
      ]
    },
    {
      "cell_type": "code",
      "source": [
        " !tshark -r 'PCAP01.pcapng' -T fields -E header=y -E separator=, -E quote=d -E occurrence=f -e ip.version -e ip.hdr_len -e ip.tos -e ip.id -e ip.flags -e ip.flags.rb -e ip.flags.df -e ip.flags.mf -e ip.frag_offset -e ip.ttl -e ip.proto -e ip.checksum -e ip.src -e ip.dst -e ip.len -e ip.dsfield -e tcp.port -e tcp.srcport -e tcp.dstport -e tcp.seq -e tcp.ack -e tcp.len -e tcp.hdr_len -e tcp.flags -e tcp.flags.fin -e tcp.flags.syn -e tcp.flags.reset -e tcp.flags.push -e tcp.flags.ack -e tcp.flags.urg -e tcp.flags.cwr -e tcp.window_size -e tcp.checksum -e tcp.urgent_pointer -e tcp.options.mss_val -e udp.port -e _ws.col.Protocol -e _ws.col.Info -e dns.qry.name -e dns.resp.type > output.csv"
      ],
      "metadata": {
        "colab": {
          "base_uri": "https://localhost:8080/"
        },
        "id": "Ruqn7gUqP110",
        "outputId": "f8115340-947e-4d7d-b786-4f85e5537482"
      },
      "execution_count": 58,
      "outputs": [
        {
          "output_type": "stream",
          "name": "stdout",
          "text": [
            "Running as user \"root\" and group \"root\". This could be dangerous.\n"
          ]
        }
      ]
    },
    {
      "cell_type": "code",
      "source": [
        "df = pd.read_csv('output.csv',on_bad_lines='skip')\n",
        "df.head()"
      ],
      "metadata": {
        "colab": {
          "base_uri": "https://localhost:8080/",
          "height": 664
        },
        "id": "i0JI8p_DQJ1u",
        "outputId": "adc57ca8-eb32-4761-e120-84cb5b488ae8"
      },
      "execution_count": 59,
      "outputs": [
        {
          "output_type": "execute_result",
          "data": {
            "text/plain": [
              "   ip.version  ip.hdr_len  ip.tos       ip.id    ip.flags  ip.flags.rb  \\\n",
              "0         4.0        20.0     NaN  0x00000000  0x00004000          0.0   \n",
              "1         4.0        20.0     NaN  0x00000000  0x00004000          0.0   \n",
              "2         4.0        20.0     NaN  0x00000000  0x00004000          0.0   \n",
              "3         4.0        20.0     NaN  0x00000000  0x00004000          0.0   \n",
              "4         4.0        20.0     NaN  0x00000000  0x00004000          0.0   \n",
              "\n",
              "   ip.flags.df  ip.flags.mf  ip.frag_offset  ip.ttl  ...  tcp.flags.cwr  \\\n",
              "0          1.0          0.0             0.0    64.0  ...            0.0   \n",
              "1          1.0          0.0             0.0    64.0  ...            0.0   \n",
              "2          1.0          0.0             0.0    64.0  ...            0.0   \n",
              "3          1.0          0.0             0.0    64.0  ...            0.0   \n",
              "4          1.0          0.0             0.0    64.0  ...            0.0   \n",
              "\n",
              "  tcp.window_size tcp.checksum tcp.urgent_pointer  tcp.options.mss_val  \\\n",
              "0          4096.0   0x0000abb9                0.0                  NaN   \n",
              "1          4096.0   0x00005279                0.0                  NaN   \n",
              "2          4096.0   0x0000f14f                0.0                  NaN   \n",
              "3          4096.0   0x00004174                0.0                  NaN   \n",
              "4          4096.0   0x0000185e                0.0                  NaN   \n",
              "\n",
              "  udp.port  _ws.col.Protocol  \\\n",
              "0      NaN           TLSv1.2   \n",
              "1      NaN               TCP   \n",
              "2      NaN               TCP   \n",
              "3      NaN               TCP   \n",
              "4      NaN               TCP   \n",
              "\n",
              "                                        _ws.col.Info  dns.qry.name  \\\n",
              "0                                   Application Data           NaN   \n",
              "1  53678 → 443 [ACK] Seq=1369 Ack=1 Win=4096 Len=...           NaN   \n",
              "2  53678 → 443 [ACK] Seq=2737 Ack=1 Win=4096 Len=...           NaN   \n",
              "3  53678 → 443 [ACK] Seq=4105 Ack=1 Win=4096 Len=...           NaN   \n",
              "4  53678 → 443 [ACK] Seq=5473 Ack=1 Win=4096 Len=...           NaN   \n",
              "\n",
              "   dns.resp.type  \n",
              "0            NaN  \n",
              "1            NaN  \n",
              "2            NaN  \n",
              "3            NaN  \n",
              "4            NaN  \n",
              "\n",
              "[5 rows x 40 columns]"
            ],
            "text/html": [
              "\n",
              "  <div id=\"df-fff44470-4f5c-4471-a9b3-60cff4f8c49c\">\n",
              "    <div class=\"colab-df-container\">\n",
              "      <div>\n",
              "<style scoped>\n",
              "    .dataframe tbody tr th:only-of-type {\n",
              "        vertical-align: middle;\n",
              "    }\n",
              "\n",
              "    .dataframe tbody tr th {\n",
              "        vertical-align: top;\n",
              "    }\n",
              "\n",
              "    .dataframe thead th {\n",
              "        text-align: right;\n",
              "    }\n",
              "</style>\n",
              "<table border=\"1\" class=\"dataframe\">\n",
              "  <thead>\n",
              "    <tr style=\"text-align: right;\">\n",
              "      <th></th>\n",
              "      <th>ip.version</th>\n",
              "      <th>ip.hdr_len</th>\n",
              "      <th>ip.tos</th>\n",
              "      <th>ip.id</th>\n",
              "      <th>ip.flags</th>\n",
              "      <th>ip.flags.rb</th>\n",
              "      <th>ip.flags.df</th>\n",
              "      <th>ip.flags.mf</th>\n",
              "      <th>ip.frag_offset</th>\n",
              "      <th>ip.ttl</th>\n",
              "      <th>...</th>\n",
              "      <th>tcp.flags.cwr</th>\n",
              "      <th>tcp.window_size</th>\n",
              "      <th>tcp.checksum</th>\n",
              "      <th>tcp.urgent_pointer</th>\n",
              "      <th>tcp.options.mss_val</th>\n",
              "      <th>udp.port</th>\n",
              "      <th>_ws.col.Protocol</th>\n",
              "      <th>_ws.col.Info</th>\n",
              "      <th>dns.qry.name</th>\n",
              "      <th>dns.resp.type</th>\n",
              "    </tr>\n",
              "  </thead>\n",
              "  <tbody>\n",
              "    <tr>\n",
              "      <th>0</th>\n",
              "      <td>4.0</td>\n",
              "      <td>20.0</td>\n",
              "      <td>NaN</td>\n",
              "      <td>0x00000000</td>\n",
              "      <td>0x00004000</td>\n",
              "      <td>0.0</td>\n",
              "      <td>1.0</td>\n",
              "      <td>0.0</td>\n",
              "      <td>0.0</td>\n",
              "      <td>64.0</td>\n",
              "      <td>...</td>\n",
              "      <td>0.0</td>\n",
              "      <td>4096.0</td>\n",
              "      <td>0x0000abb9</td>\n",
              "      <td>0.0</td>\n",
              "      <td>NaN</td>\n",
              "      <td>NaN</td>\n",
              "      <td>TLSv1.2</td>\n",
              "      <td>Application Data</td>\n",
              "      <td>NaN</td>\n",
              "      <td>NaN</td>\n",
              "    </tr>\n",
              "    <tr>\n",
              "      <th>1</th>\n",
              "      <td>4.0</td>\n",
              "      <td>20.0</td>\n",
              "      <td>NaN</td>\n",
              "      <td>0x00000000</td>\n",
              "      <td>0x00004000</td>\n",
              "      <td>0.0</td>\n",
              "      <td>1.0</td>\n",
              "      <td>0.0</td>\n",
              "      <td>0.0</td>\n",
              "      <td>64.0</td>\n",
              "      <td>...</td>\n",
              "      <td>0.0</td>\n",
              "      <td>4096.0</td>\n",
              "      <td>0x00005279</td>\n",
              "      <td>0.0</td>\n",
              "      <td>NaN</td>\n",
              "      <td>NaN</td>\n",
              "      <td>TCP</td>\n",
              "      <td>53678 → 443 [ACK] Seq=1369 Ack=1 Win=4096 Len=...</td>\n",
              "      <td>NaN</td>\n",
              "      <td>NaN</td>\n",
              "    </tr>\n",
              "    <tr>\n",
              "      <th>2</th>\n",
              "      <td>4.0</td>\n",
              "      <td>20.0</td>\n",
              "      <td>NaN</td>\n",
              "      <td>0x00000000</td>\n",
              "      <td>0x00004000</td>\n",
              "      <td>0.0</td>\n",
              "      <td>1.0</td>\n",
              "      <td>0.0</td>\n",
              "      <td>0.0</td>\n",
              "      <td>64.0</td>\n",
              "      <td>...</td>\n",
              "      <td>0.0</td>\n",
              "      <td>4096.0</td>\n",
              "      <td>0x0000f14f</td>\n",
              "      <td>0.0</td>\n",
              "      <td>NaN</td>\n",
              "      <td>NaN</td>\n",
              "      <td>TCP</td>\n",
              "      <td>53678 → 443 [ACK] Seq=2737 Ack=1 Win=4096 Len=...</td>\n",
              "      <td>NaN</td>\n",
              "      <td>NaN</td>\n",
              "    </tr>\n",
              "    <tr>\n",
              "      <th>3</th>\n",
              "      <td>4.0</td>\n",
              "      <td>20.0</td>\n",
              "      <td>NaN</td>\n",
              "      <td>0x00000000</td>\n",
              "      <td>0x00004000</td>\n",
              "      <td>0.0</td>\n",
              "      <td>1.0</td>\n",
              "      <td>0.0</td>\n",
              "      <td>0.0</td>\n",
              "      <td>64.0</td>\n",
              "      <td>...</td>\n",
              "      <td>0.0</td>\n",
              "      <td>4096.0</td>\n",
              "      <td>0x00004174</td>\n",
              "      <td>0.0</td>\n",
              "      <td>NaN</td>\n",
              "      <td>NaN</td>\n",
              "      <td>TCP</td>\n",
              "      <td>53678 → 443 [ACK] Seq=4105 Ack=1 Win=4096 Len=...</td>\n",
              "      <td>NaN</td>\n",
              "      <td>NaN</td>\n",
              "    </tr>\n",
              "    <tr>\n",
              "      <th>4</th>\n",
              "      <td>4.0</td>\n",
              "      <td>20.0</td>\n",
              "      <td>NaN</td>\n",
              "      <td>0x00000000</td>\n",
              "      <td>0x00004000</td>\n",
              "      <td>0.0</td>\n",
              "      <td>1.0</td>\n",
              "      <td>0.0</td>\n",
              "      <td>0.0</td>\n",
              "      <td>64.0</td>\n",
              "      <td>...</td>\n",
              "      <td>0.0</td>\n",
              "      <td>4096.0</td>\n",
              "      <td>0x0000185e</td>\n",
              "      <td>0.0</td>\n",
              "      <td>NaN</td>\n",
              "      <td>NaN</td>\n",
              "      <td>TCP</td>\n",
              "      <td>53678 → 443 [ACK] Seq=5473 Ack=1 Win=4096 Len=...</td>\n",
              "      <td>NaN</td>\n",
              "      <td>NaN</td>\n",
              "    </tr>\n",
              "  </tbody>\n",
              "</table>\n",
              "<p>5 rows × 40 columns</p>\n",
              "</div>\n",
              "      <button class=\"colab-df-convert\" onclick=\"convertToInteractive('df-fff44470-4f5c-4471-a9b3-60cff4f8c49c')\"\n",
              "              title=\"Convert this dataframe to an interactive table.\"\n",
              "              style=\"display:none;\">\n",
              "        \n",
              "  <svg xmlns=\"http://www.w3.org/2000/svg\" height=\"24px\"viewBox=\"0 0 24 24\"\n",
              "       width=\"24px\">\n",
              "    <path d=\"M0 0h24v24H0V0z\" fill=\"none\"/>\n",
              "    <path d=\"M18.56 5.44l.94 2.06.94-2.06 2.06-.94-2.06-.94-.94-2.06-.94 2.06-2.06.94zm-11 1L8.5 8.5l.94-2.06 2.06-.94-2.06-.94L8.5 2.5l-.94 2.06-2.06.94zm10 10l.94 2.06.94-2.06 2.06-.94-2.06-.94-.94-2.06-.94 2.06-2.06.94z\"/><path d=\"M17.41 7.96l-1.37-1.37c-.4-.4-.92-.59-1.43-.59-.52 0-1.04.2-1.43.59L10.3 9.45l-7.72 7.72c-.78.78-.78 2.05 0 2.83L4 21.41c.39.39.9.59 1.41.59.51 0 1.02-.2 1.41-.59l7.78-7.78 2.81-2.81c.8-.78.8-2.07 0-2.86zM5.41 20L4 18.59l7.72-7.72 1.47 1.35L5.41 20z\"/>\n",
              "  </svg>\n",
              "      </button>\n",
              "      \n",
              "  <style>\n",
              "    .colab-df-container {\n",
              "      display:flex;\n",
              "      flex-wrap:wrap;\n",
              "      gap: 12px;\n",
              "    }\n",
              "\n",
              "    .colab-df-convert {\n",
              "      background-color: #E8F0FE;\n",
              "      border: none;\n",
              "      border-radius: 50%;\n",
              "      cursor: pointer;\n",
              "      display: none;\n",
              "      fill: #1967D2;\n",
              "      height: 32px;\n",
              "      padding: 0 0 0 0;\n",
              "      width: 32px;\n",
              "    }\n",
              "\n",
              "    .colab-df-convert:hover {\n",
              "      background-color: #E2EBFA;\n",
              "      box-shadow: 0px 1px 2px rgba(60, 64, 67, 0.3), 0px 1px 3px 1px rgba(60, 64, 67, 0.15);\n",
              "      fill: #174EA6;\n",
              "    }\n",
              "\n",
              "    [theme=dark] .colab-df-convert {\n",
              "      background-color: #3B4455;\n",
              "      fill: #D2E3FC;\n",
              "    }\n",
              "\n",
              "    [theme=dark] .colab-df-convert:hover {\n",
              "      background-color: #434B5C;\n",
              "      box-shadow: 0px 1px 3px 1px rgba(0, 0, 0, 0.15);\n",
              "      filter: drop-shadow(0px 1px 2px rgba(0, 0, 0, 0.3));\n",
              "      fill: #FFFFFF;\n",
              "    }\n",
              "  </style>\n",
              "\n",
              "      <script>\n",
              "        const buttonEl =\n",
              "          document.querySelector('#df-fff44470-4f5c-4471-a9b3-60cff4f8c49c button.colab-df-convert');\n",
              "        buttonEl.style.display =\n",
              "          google.colab.kernel.accessAllowed ? 'block' : 'none';\n",
              "\n",
              "        async function convertToInteractive(key) {\n",
              "          const element = document.querySelector('#df-fff44470-4f5c-4471-a9b3-60cff4f8c49c');\n",
              "          const dataTable =\n",
              "            await google.colab.kernel.invokeFunction('convertToInteractive',\n",
              "                                                     [key], {});\n",
              "          if (!dataTable) return;\n",
              "\n",
              "          const docLinkHtml = 'Like what you see? Visit the ' +\n",
              "            '<a target=\"_blank\" href=https://colab.research.google.com/notebooks/data_table.ipynb>data table notebook</a>'\n",
              "            + ' to learn more about interactive tables.';\n",
              "          element.innerHTML = '';\n",
              "          dataTable['output_type'] = 'display_data';\n",
              "          await google.colab.output.renderOutput(dataTable, element);\n",
              "          const docLink = document.createElement('div');\n",
              "          docLink.innerHTML = docLinkHtml;\n",
              "          element.appendChild(docLink);\n",
              "        }\n",
              "      </script>\n",
              "    </div>\n",
              "  </div>\n",
              "  "
            ]
          },
          "metadata": {},
          "execution_count": 59
        }
      ]
    },
    {
      "cell_type": "markdown",
      "source": [
        "1. ¿Qué protocolo se utilizó en el puerto 3942?"
      ],
      "metadata": {
        "id": "keyIiUp1UEx-"
      }
    },
    {
      "cell_type": "code",
      "source": [
        "df[(df['tcp.port']==3942) | (df['udp.port']==3942)][['_ws.col.Protocol','_ws.col.Info']]"
      ],
      "metadata": {
        "colab": {
          "base_uri": "https://localhost:8080/",
          "height": 206
        },
        "id": "93HzF64XQkg9",
        "outputId": "030a8986-f155-4bf1-be6a-380be12433c1"
      },
      "execution_count": 60,
      "outputs": [
        {
          "output_type": "execute_result",
          "data": {
            "text/plain": [
              "     _ws.col.Protocol          _ws.col.Info\n",
              "2588             SSDP  M-SEARCH * HTTP/1.1 \n",
              "2589             SSDP  M-SEARCH * HTTP/1.1 \n",
              "2591             SSDP  M-SEARCH * HTTP/1.1 \n",
              "2592             SSDP  M-SEARCH * HTTP/1.1 \n",
              "2593             SSDP  M-SEARCH * HTTP/1.1 "
            ],
            "text/html": [
              "\n",
              "  <div id=\"df-8a646024-f4fe-4443-94e6-86eb5cb1f28a\">\n",
              "    <div class=\"colab-df-container\">\n",
              "      <div>\n",
              "<style scoped>\n",
              "    .dataframe tbody tr th:only-of-type {\n",
              "        vertical-align: middle;\n",
              "    }\n",
              "\n",
              "    .dataframe tbody tr th {\n",
              "        vertical-align: top;\n",
              "    }\n",
              "\n",
              "    .dataframe thead th {\n",
              "        text-align: right;\n",
              "    }\n",
              "</style>\n",
              "<table border=\"1\" class=\"dataframe\">\n",
              "  <thead>\n",
              "    <tr style=\"text-align: right;\">\n",
              "      <th></th>\n",
              "      <th>_ws.col.Protocol</th>\n",
              "      <th>_ws.col.Info</th>\n",
              "    </tr>\n",
              "  </thead>\n",
              "  <tbody>\n",
              "    <tr>\n",
              "      <th>2588</th>\n",
              "      <td>SSDP</td>\n",
              "      <td>M-SEARCH * HTTP/1.1</td>\n",
              "    </tr>\n",
              "    <tr>\n",
              "      <th>2589</th>\n",
              "      <td>SSDP</td>\n",
              "      <td>M-SEARCH * HTTP/1.1</td>\n",
              "    </tr>\n",
              "    <tr>\n",
              "      <th>2591</th>\n",
              "      <td>SSDP</td>\n",
              "      <td>M-SEARCH * HTTP/1.1</td>\n",
              "    </tr>\n",
              "    <tr>\n",
              "      <th>2592</th>\n",
              "      <td>SSDP</td>\n",
              "      <td>M-SEARCH * HTTP/1.1</td>\n",
              "    </tr>\n",
              "    <tr>\n",
              "      <th>2593</th>\n",
              "      <td>SSDP</td>\n",
              "      <td>M-SEARCH * HTTP/1.1</td>\n",
              "    </tr>\n",
              "  </tbody>\n",
              "</table>\n",
              "</div>\n",
              "      <button class=\"colab-df-convert\" onclick=\"convertToInteractive('df-8a646024-f4fe-4443-94e6-86eb5cb1f28a')\"\n",
              "              title=\"Convert this dataframe to an interactive table.\"\n",
              "              style=\"display:none;\">\n",
              "        \n",
              "  <svg xmlns=\"http://www.w3.org/2000/svg\" height=\"24px\"viewBox=\"0 0 24 24\"\n",
              "       width=\"24px\">\n",
              "    <path d=\"M0 0h24v24H0V0z\" fill=\"none\"/>\n",
              "    <path d=\"M18.56 5.44l.94 2.06.94-2.06 2.06-.94-2.06-.94-.94-2.06-.94 2.06-2.06.94zm-11 1L8.5 8.5l.94-2.06 2.06-.94-2.06-.94L8.5 2.5l-.94 2.06-2.06.94zm10 10l.94 2.06.94-2.06 2.06-.94-2.06-.94-.94-2.06-.94 2.06-2.06.94z\"/><path d=\"M17.41 7.96l-1.37-1.37c-.4-.4-.92-.59-1.43-.59-.52 0-1.04.2-1.43.59L10.3 9.45l-7.72 7.72c-.78.78-.78 2.05 0 2.83L4 21.41c.39.39.9.59 1.41.59.51 0 1.02-.2 1.41-.59l7.78-7.78 2.81-2.81c.8-.78.8-2.07 0-2.86zM5.41 20L4 18.59l7.72-7.72 1.47 1.35L5.41 20z\"/>\n",
              "  </svg>\n",
              "      </button>\n",
              "      \n",
              "  <style>\n",
              "    .colab-df-container {\n",
              "      display:flex;\n",
              "      flex-wrap:wrap;\n",
              "      gap: 12px;\n",
              "    }\n",
              "\n",
              "    .colab-df-convert {\n",
              "      background-color: #E8F0FE;\n",
              "      border: none;\n",
              "      border-radius: 50%;\n",
              "      cursor: pointer;\n",
              "      display: none;\n",
              "      fill: #1967D2;\n",
              "      height: 32px;\n",
              "      padding: 0 0 0 0;\n",
              "      width: 32px;\n",
              "    }\n",
              "\n",
              "    .colab-df-convert:hover {\n",
              "      background-color: #E2EBFA;\n",
              "      box-shadow: 0px 1px 2px rgba(60, 64, 67, 0.3), 0px 1px 3px 1px rgba(60, 64, 67, 0.15);\n",
              "      fill: #174EA6;\n",
              "    }\n",
              "\n",
              "    [theme=dark] .colab-df-convert {\n",
              "      background-color: #3B4455;\n",
              "      fill: #D2E3FC;\n",
              "    }\n",
              "\n",
              "    [theme=dark] .colab-df-convert:hover {\n",
              "      background-color: #434B5C;\n",
              "      box-shadow: 0px 1px 3px 1px rgba(0, 0, 0, 0.15);\n",
              "      filter: drop-shadow(0px 1px 2px rgba(0, 0, 0, 0.3));\n",
              "      fill: #FFFFFF;\n",
              "    }\n",
              "  </style>\n",
              "\n",
              "      <script>\n",
              "        const buttonEl =\n",
              "          document.querySelector('#df-8a646024-f4fe-4443-94e6-86eb5cb1f28a button.colab-df-convert');\n",
              "        buttonEl.style.display =\n",
              "          google.colab.kernel.accessAllowed ? 'block' : 'none';\n",
              "\n",
              "        async function convertToInteractive(key) {\n",
              "          const element = document.querySelector('#df-8a646024-f4fe-4443-94e6-86eb5cb1f28a');\n",
              "          const dataTable =\n",
              "            await google.colab.kernel.invokeFunction('convertToInteractive',\n",
              "                                                     [key], {});\n",
              "          if (!dataTable) return;\n",
              "\n",
              "          const docLinkHtml = 'Like what you see? Visit the ' +\n",
              "            '<a target=\"_blank\" href=https://colab.research.google.com/notebooks/data_table.ipynb>data table notebook</a>'\n",
              "            + ' to learn more about interactive tables.';\n",
              "          element.innerHTML = '';\n",
              "          dataTable['output_type'] = 'display_data';\n",
              "          await google.colab.output.renderOutput(dataTable, element);\n",
              "          const docLink = document.createElement('div');\n",
              "          docLink.innerHTML = docLinkHtml;\n",
              "          element.appendChild(docLink);\n",
              "        }\n",
              "      </script>\n",
              "    </div>\n",
              "  </div>\n",
              "  "
            ]
          },
          "metadata": {},
          "execution_count": 60
        }
      ]
    },
    {
      "cell_type": "markdown",
      "source": [
        "como podemos ver el protocolo utilizado es SSDP (Simple Service Discovery Protocol)."
      ],
      "metadata": {
        "id": "g3JftqF-UTxs"
      }
    },
    {
      "cell_type": "markdown",
      "source": [
        "2. ¿Cúal es la direccion IP del host al que se le hizo ping dos veces?"
      ],
      "metadata": {
        "id": "YAEdy3YLUh1v"
      }
    },
    {
      "cell_type": "code",
      "source": [
        "df[(df['_ws.col.Protocol']=='ICMP')][['ip.src','ip.dst','_ws.col.Info']]"
      ],
      "metadata": {
        "colab": {
          "base_uri": "https://localhost:8080/",
          "height": 238
        },
        "id": "dWkcdLt7T7Yd",
        "outputId": "2ff11ae8-c9e9-49ae-f017-7a90f0d69fab"
      },
      "execution_count": 61,
      "outputs": [
        {
          "output_type": "execute_result",
          "data": {
            "text/plain": [
              "           ip.src       ip.dst  \\\n",
              "126   192.168.1.7      8.8.8.8   \n",
              "127   192.168.1.7      8.8.8.8   \n",
              "1626  192.168.1.7      8.8.4.4   \n",
              "1659      8.8.4.4  192.168.1.7   \n",
              "1665  192.168.1.7      8.8.4.4   \n",
              "1702      8.8.4.4  192.168.1.7   \n",
              "\n",
              "                                           _ws.col.Info  \n",
              "126          Destination unreachable (Port unreachable)  \n",
              "127          Destination unreachable (Port unreachable)  \n",
              "1626    Echo (ping) request  id=0x4728, seq=0/0, ttl=64  \n",
              "1659  Echo (ping) reply    id=0x4728, seq=0/0, ttl=5...  \n",
              "1665  Echo (ping) request  id=0x4728, seq=1/256, ttl=64  \n",
              "1702  Echo (ping) reply    id=0x4728, seq=1/256, ttl...  "
            ],
            "text/html": [
              "\n",
              "  <div id=\"df-81c8e942-da48-4e84-9dd0-37ff4a159ed4\">\n",
              "    <div class=\"colab-df-container\">\n",
              "      <div>\n",
              "<style scoped>\n",
              "    .dataframe tbody tr th:only-of-type {\n",
              "        vertical-align: middle;\n",
              "    }\n",
              "\n",
              "    .dataframe tbody tr th {\n",
              "        vertical-align: top;\n",
              "    }\n",
              "\n",
              "    .dataframe thead th {\n",
              "        text-align: right;\n",
              "    }\n",
              "</style>\n",
              "<table border=\"1\" class=\"dataframe\">\n",
              "  <thead>\n",
              "    <tr style=\"text-align: right;\">\n",
              "      <th></th>\n",
              "      <th>ip.src</th>\n",
              "      <th>ip.dst</th>\n",
              "      <th>_ws.col.Info</th>\n",
              "    </tr>\n",
              "  </thead>\n",
              "  <tbody>\n",
              "    <tr>\n",
              "      <th>126</th>\n",
              "      <td>192.168.1.7</td>\n",
              "      <td>8.8.8.8</td>\n",
              "      <td>Destination unreachable (Port unreachable)</td>\n",
              "    </tr>\n",
              "    <tr>\n",
              "      <th>127</th>\n",
              "      <td>192.168.1.7</td>\n",
              "      <td>8.8.8.8</td>\n",
              "      <td>Destination unreachable (Port unreachable)</td>\n",
              "    </tr>\n",
              "    <tr>\n",
              "      <th>1626</th>\n",
              "      <td>192.168.1.7</td>\n",
              "      <td>8.8.4.4</td>\n",
              "      <td>Echo (ping) request  id=0x4728, seq=0/0, ttl=64</td>\n",
              "    </tr>\n",
              "    <tr>\n",
              "      <th>1659</th>\n",
              "      <td>8.8.4.4</td>\n",
              "      <td>192.168.1.7</td>\n",
              "      <td>Echo (ping) reply    id=0x4728, seq=0/0, ttl=5...</td>\n",
              "    </tr>\n",
              "    <tr>\n",
              "      <th>1665</th>\n",
              "      <td>192.168.1.7</td>\n",
              "      <td>8.8.4.4</td>\n",
              "      <td>Echo (ping) request  id=0x4728, seq=1/256, ttl=64</td>\n",
              "    </tr>\n",
              "    <tr>\n",
              "      <th>1702</th>\n",
              "      <td>8.8.4.4</td>\n",
              "      <td>192.168.1.7</td>\n",
              "      <td>Echo (ping) reply    id=0x4728, seq=1/256, ttl...</td>\n",
              "    </tr>\n",
              "  </tbody>\n",
              "</table>\n",
              "</div>\n",
              "      <button class=\"colab-df-convert\" onclick=\"convertToInteractive('df-81c8e942-da48-4e84-9dd0-37ff4a159ed4')\"\n",
              "              title=\"Convert this dataframe to an interactive table.\"\n",
              "              style=\"display:none;\">\n",
              "        \n",
              "  <svg xmlns=\"http://www.w3.org/2000/svg\" height=\"24px\"viewBox=\"0 0 24 24\"\n",
              "       width=\"24px\">\n",
              "    <path d=\"M0 0h24v24H0V0z\" fill=\"none\"/>\n",
              "    <path d=\"M18.56 5.44l.94 2.06.94-2.06 2.06-.94-2.06-.94-.94-2.06-.94 2.06-2.06.94zm-11 1L8.5 8.5l.94-2.06 2.06-.94-2.06-.94L8.5 2.5l-.94 2.06-2.06.94zm10 10l.94 2.06.94-2.06 2.06-.94-2.06-.94-.94-2.06-.94 2.06-2.06.94z\"/><path d=\"M17.41 7.96l-1.37-1.37c-.4-.4-.92-.59-1.43-.59-.52 0-1.04.2-1.43.59L10.3 9.45l-7.72 7.72c-.78.78-.78 2.05 0 2.83L4 21.41c.39.39.9.59 1.41.59.51 0 1.02-.2 1.41-.59l7.78-7.78 2.81-2.81c.8-.78.8-2.07 0-2.86zM5.41 20L4 18.59l7.72-7.72 1.47 1.35L5.41 20z\"/>\n",
              "  </svg>\n",
              "      </button>\n",
              "      \n",
              "  <style>\n",
              "    .colab-df-container {\n",
              "      display:flex;\n",
              "      flex-wrap:wrap;\n",
              "      gap: 12px;\n",
              "    }\n",
              "\n",
              "    .colab-df-convert {\n",
              "      background-color: #E8F0FE;\n",
              "      border: none;\n",
              "      border-radius: 50%;\n",
              "      cursor: pointer;\n",
              "      display: none;\n",
              "      fill: #1967D2;\n",
              "      height: 32px;\n",
              "      padding: 0 0 0 0;\n",
              "      width: 32px;\n",
              "    }\n",
              "\n",
              "    .colab-df-convert:hover {\n",
              "      background-color: #E2EBFA;\n",
              "      box-shadow: 0px 1px 2px rgba(60, 64, 67, 0.3), 0px 1px 3px 1px rgba(60, 64, 67, 0.15);\n",
              "      fill: #174EA6;\n",
              "    }\n",
              "\n",
              "    [theme=dark] .colab-df-convert {\n",
              "      background-color: #3B4455;\n",
              "      fill: #D2E3FC;\n",
              "    }\n",
              "\n",
              "    [theme=dark] .colab-df-convert:hover {\n",
              "      background-color: #434B5C;\n",
              "      box-shadow: 0px 1px 3px 1px rgba(0, 0, 0, 0.15);\n",
              "      filter: drop-shadow(0px 1px 2px rgba(0, 0, 0, 0.3));\n",
              "      fill: #FFFFFF;\n",
              "    }\n",
              "  </style>\n",
              "\n",
              "      <script>\n",
              "        const buttonEl =\n",
              "          document.querySelector('#df-81c8e942-da48-4e84-9dd0-37ff4a159ed4 button.colab-df-convert');\n",
              "        buttonEl.style.display =\n",
              "          google.colab.kernel.accessAllowed ? 'block' : 'none';\n",
              "\n",
              "        async function convertToInteractive(key) {\n",
              "          const element = document.querySelector('#df-81c8e942-da48-4e84-9dd0-37ff4a159ed4');\n",
              "          const dataTable =\n",
              "            await google.colab.kernel.invokeFunction('convertToInteractive',\n",
              "                                                     [key], {});\n",
              "          if (!dataTable) return;\n",
              "\n",
              "          const docLinkHtml = 'Like what you see? Visit the ' +\n",
              "            '<a target=\"_blank\" href=https://colab.research.google.com/notebooks/data_table.ipynb>data table notebook</a>'\n",
              "            + ' to learn more about interactive tables.';\n",
              "          element.innerHTML = '';\n",
              "          dataTable['output_type'] = 'display_data';\n",
              "          await google.colab.output.renderOutput(dataTable, element);\n",
              "          const docLink = document.createElement('div');\n",
              "          docLink.innerHTML = docLinkHtml;\n",
              "          element.appendChild(docLink);\n",
              "        }\n",
              "      </script>\n",
              "    </div>\n",
              "  </div>\n",
              "  "
            ]
          },
          "metadata": {},
          "execution_count": 61
        }
      ]
    },
    {
      "cell_type": "markdown",
      "source": [
        "vemos que la ip 192.168.1.7 hizo 2 solicitudes de ping hacia al 8.8.4.4."
      ],
      "metadata": {
        "id": "2QlfJewiUmyL"
      }
    },
    {
      "cell_type": "markdown",
      "source": [
        "3. ¿Cuántos paquetes de respuesta a la consulta DNS se han capturado?"
      ],
      "metadata": {
        "id": "QlQqpL_GU3I8"
      }
    },
    {
      "cell_type": "code",
      "source": [
        "df[df['dns.resp.type'].notnull()].count()"
      ],
      "metadata": {
        "colab": {
          "base_uri": "https://localhost:8080/"
        },
        "id": "zl5W6pacXB-n",
        "outputId": "de0f695c-5379-42a8-a921-56f05cfa85d2"
      },
      "execution_count": 62,
      "outputs": [
        {
          "output_type": "execute_result",
          "data": {
            "text/plain": [
              "ip.version             99\n",
              "ip.hdr_len             99\n",
              "ip.tos                  0\n",
              "ip.id                  99\n",
              "ip.flags               99\n",
              "ip.flags.rb            99\n",
              "ip.flags.df            99\n",
              "ip.flags.mf            99\n",
              "ip.frag_offset         99\n",
              "ip.ttl                 99\n",
              "ip.proto               99\n",
              "ip.checksum            99\n",
              "ip.src                 99\n",
              "ip.dst                 99\n",
              "ip.len                 99\n",
              "ip.dsfield             99\n",
              "tcp.port                0\n",
              "tcp.srcport             0\n",
              "tcp.dstport             0\n",
              "tcp.seq                 0\n",
              "tcp.ack                 0\n",
              "tcp.len                 0\n",
              "tcp.hdr_len             0\n",
              "tcp.flags               0\n",
              "tcp.flags.fin           0\n",
              "tcp.flags.syn           0\n",
              "tcp.flags.reset         0\n",
              "tcp.flags.push          0\n",
              "tcp.flags.ack           0\n",
              "tcp.flags.urg           0\n",
              "tcp.flags.cwr           0\n",
              "tcp.window_size         0\n",
              "tcp.checksum            0\n",
              "tcp.urgent_pointer      0\n",
              "tcp.options.mss_val     0\n",
              "udp.port               99\n",
              "_ws.col.Protocol       99\n",
              "_ws.col.Info           99\n",
              "dns.qry.name           99\n",
              "dns.resp.type          99\n",
              "dtype: int64"
            ]
          },
          "metadata": {},
          "execution_count": 62
        }
      ]
    },
    {
      "cell_type": "markdown",
      "source": [
        "podemos ver que hay 99 paquetes de respuesta DNS"
      ],
      "metadata": {
        "id": "O9DtOlzddCRg"
      }
    },
    {
      "cell_type": "markdown",
      "source": [
        "4. ¿Cuál es la dirección IP del host que ha enviado el mayor numero de bytes?"
      ],
      "metadata": {
        "id": "bU_nb14wdLaM"
      }
    },
    {
      "cell_type": "code",
      "source": [
        "df.groupby(by='ip.src').count().sort_values('_ws.col.Protocol',ascending=False)['_ws.col.Protocol'].head(3)"
      ],
      "metadata": {
        "colab": {
          "base_uri": "https://localhost:8080/"
        },
        "id": "iMGFrAmXdIuH",
        "outputId": "8f409e9d-7da5-4a27-ff76-69b686f3c4ba"
      },
      "execution_count": 63,
      "outputs": [
        {
          "output_type": "execute_result",
          "data": {
            "text/plain": [
              "ip.src\n",
              "192.168.1.7      5043\n",
              "115.178.9.18     1409\n",
              "216.58.199.68     356\n",
              "Name: _ws.col.Protocol, dtype: int64"
            ]
          },
          "metadata": {},
          "execution_count": 63
        }
      ]
    },
    {
      "cell_type": "code",
      "source": [
        "plt.figure(figsize=(10,7))\n",
        "df.groupby(by='ip.src').count().sort_values('_ws.col.Protocol',ascending=False)['_ws.col.Protocol'].head(5).plot.bar()"
      ],
      "metadata": {
        "colab": {
          "base_uri": "https://localhost:8080/",
          "height": 529
        },
        "id": "bL-iIfI6gfvj",
        "outputId": "8acc4dc0-cc44-497d-c342-a9bc87dd0da4"
      },
      "execution_count": 67,
      "outputs": [
        {
          "output_type": "execute_result",
          "data": {
            "text/plain": [
              "<matplotlib.axes._subplots.AxesSubplot at 0x7f5fcc798450>"
            ]
          },
          "metadata": {},
          "execution_count": 67
        },
        {
          "output_type": "display_data",
          "data": {
            "text/plain": [
              "<Figure size 720x504 with 1 Axes>"
            ],
            "image/png": "[encoded data removed]"
          },
          "metadata": {
            "needs_background": "light"
          }
        }
      ]
    },
    {
      "cell_type": "markdown",
      "source": [
        "como podemos ver la ip que ha enviado mas paquetes es la 192.168.1.7"
      ],
      "metadata": {
        "id": "7J23knR-fCkN"
      }
    }
  ]
}